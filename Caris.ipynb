{
 "cells": [
  {
   "cell_type": "code",
   "execution_count": null,
   "metadata": {},
   "outputs": [
    {
     "data": {
      "text/html": "<span>2020-02-27 12:56:17Z</span>"
     }
    }
   ],
   "source": [
    "#r \"nuget: FSharp.Data\"\n",
    "#r \"nuget: FSharp.Json\"\n",
    "#r \"nuget: Newtonsoft.Json\"\n",
    "\n",
    "open FSharp.Data\n",
    "open Newtonsoft.Json\n",
    "\n",
    "open System.Xml.Schema\n",
    "open System.Xml.Linq\n",
    "open System.IO\n",
    "\n",
    "\n",
    "\n",
    "// let carisPath = Path.Combine([| Environment.CurrentDirectory; \"data\"; \"Caris\"; \"TN20-111602_2020-11-12_00.27.xml\"|])\n",
    "[<Literal>]\n",
    "let carisPath =  \"./data/Caris/TN20-111602_2020-11-12_00.27.xml\"\n",
    "\n",
    "type CarisReport = XmlProvider<carisPath>\n",
    "\n",
    "\n",
    "let carisReport = CarisReport.Load(carisPath)\n",
    "\n",
    "carisReport.TestDetails.OrderedDate\n"
   ]
  },
  {
   "cell_type": "code",
   "execution_count": null,
   "metadata": {},
   "outputs": [
    {
     "data": {
      "text/html": "<table><thead><tr><th>testDetails</th></tr></thead><tbody><tr><td><div class=\"dni-plaintext\">{ labName = &quot;Caris Life Sciences&quot;\n  testName = &quot;Caris MI Profile&quot; }</div></td></tr></tbody></table>"
     }
    }
   ],
   "source": [
    "let xElement = XElement.Load(carisPath)\n",
    "\n",
    "\n",
    "let testDetails = xElement.Descendants(XName.Get(\"testDetails\")) |> Seq.head\n",
    "let json = testDetails.SerializeToJson()\n",
    "let jsonString = json.ToString()\n",
    "\n",
    "json\n",
    "\n",
    "type TestDetailsJson =\n",
    "  { testDetails: {| labName: string\n",
    "                    testName: string |}}\n",
    "\n",
    "JsonConvert.DeserializeObject<TestDetailsJson>(jsonString);\n"
   ]
  }
 ],
 "metadata": {
  "kernelspec": {
   "display_name": "Python 3.9.1 64-bit",
   "metadata": {
    "interpreter": {
     "hash": "aee8b7b246df8f9039afb4144a1f6fd8d2ca17a180786b69acc140d282b71a49"
    }
   },
   "name": "python3"
  },
  "language_info": {
   "file_extension": ".cs",
   "mimetype": "text/x-csharp",
   "name": "csharp",
   "pygments_lexer": "csharp",
   "version": "3.9.1-final"
  }
 },
 "nbformat": 4,
 "nbformat_minor": 4
}