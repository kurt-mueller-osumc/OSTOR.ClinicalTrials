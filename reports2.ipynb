{
  "cells": [
    {
      "cell_type": "code",
      "execution_count": 1,
      "metadata": {
        "dotnet_interactive": {
          "language": "fsharp"
        }
      },
      "source": [
        "#r \"./src/Reports/bin/Debug/net5.0/Reports.dll\"\n",
        "#r \"nuget: FSharp.Data\"\n",
        "\n",
        "open System\n",
        "open System.IO\n",
        "\n",
        "open OSTOR.ClinicalTrials.Reports\n",
        "open FSharp.Data\n",
        "\n",
        "let carisReportsPath = Path.Combine([| Environment.CurrentDirectory; \"data\"; \"Caris\"|])\n",
        "\n",
        "let carisXmls =\n",
        "    DirectoryInfo(carisReportsPath).EnumerateFileSystemInfos(\"*.xml\")\n",
        "    |> Seq.map (fun filePath -> Caris.Report.Xml(filePath.FullName))\n",
        "    |> Seq.toList\n",
        ""
      ],
      "outputs": [
        {
          "output_type": "error",
          "ename": "Error",
          "evalue": "[object Object]",
          "traceback": []
        }
      ]
    }
  ],
  "metadata": {
    "kernelspec": {
      "display_name": ".NET (C#)",
      "language": "C#",
      "name": ".net-csharp"
    },
    "language_info": {
      "file_extension": ".cs",
      "mimetype": "text/x-csharp",
      "name": "C#",
      "pygments_lexer": "csharp",
      "version": "8.0"
    }
  },
  "nbformat": 4,
  "nbformat_minor": 4
}