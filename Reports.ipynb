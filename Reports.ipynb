{
 "cells": [
  {
   "cell_type": "markdown",
   "metadata": {},
   "source": [
    "# Reports"
   ]
  },
  {
   "cell_type": "markdown",
   "metadata": {},
   "source": [
    "## Schema"
   ]
  },
  {
   "cell_type": "markdown",
   "metadata": {},
   "source": [
    "### Setup"
   ]
  },
  {
   "cell_type": "code",
   "execution_count": 1,
   "metadata": {},
   "source": [
    "#!fsharp\n",
    "#r \"nuget: FSharp.Data\"\n",
    "#r \"nuget: FsToolkit.ErrorHandling\"\n",
    "#r \"./src/Reports/bin/Debug/net5.0/Reports.dll\"\n",
    "\n",
    "open FSharp.Data\n",
    "open OSTOR.ClinicalTrials.Reports.Utilities\n",
    "open OSTOR.ClinicalTrials.Reports.Utilities.Xml\n",
    "\n",
    "open System\n",
    "open System.IO"
   ],
   "outputs": [
    {
     "output_type": "execute_result",
     "data": {
      "text/plain": "Installed package FsToolkit.ErrorHandling version 2.0.0"
     },
     "execution_count": 1,
     "metadata": {}
    },
    {
     "output_type": "execute_result",
     "data": {
      "text/plain": "Installed package FSharp.Data version 3.3.3"
     },
     "execution_count": 1,
     "metadata": {}
    }
   ]
  },
  {
   "cell_type": "markdown",
   "metadata": {},
   "source": [
    "### Caris Schema"
   ]
  },
  {
   "cell_type": "code",
   "execution_count": 1,
   "metadata": {},
   "source": [
    "#!fsharp\n",
    "let carisSchemaGenerator = XmlSchemaGenerator()\n",
    "\n",
    "// Caris report xmls\n",
    "let carisReportXmls = Path.Combine([|Environment.CurrentDirectory; \"data\"; \"Caris\"|])\n",
    "\n",
    "let sg =\n",
    "    DirectoryInfo(carisReportXmls).EnumerateFileSystemInfos(\"*.xml\")\n",
    "        |> Seq.fold (fun (sg: XmlSchemaGenerator) fileInfo -> sg.AddXml(fileInfo.FullName)) carisSchemaGenerator\n",
    "\n",
    "sg.SaveSchemaToDisk \"./src/Reports/data/carisReport.xsd\""
   ],
   "outputs": []
  },
  {
   "cell_type": "markdown",
   "metadata": {},
   "source": [
    "## Validations"
   ]
  },
  {
   "cell_type": "markdown",
   "metadata": {},
   "source": [
    "### Setup"
   ]
  },
  {
   "cell_type": "code",
   "execution_count": 1,
   "metadata": {},
   "source": [
    "#!fsharp\n",
    "#r \"nuget: FSharp.Data\"\n",
    "#r \"nuget: FsToolkit.ErrorHandling\"\n",
    "#r \"./src/Reports/bin/Debug/net5.0/Reports.dll\"\n",
    "\n",
    "open OSTOR.ClinicalTrials.Reports\n",
    "\n",
    "open System\n",
    "open System.IO"
   ],
   "outputs": []
  },
  {
   "cell_type": "markdown",
   "metadata": {},
   "source": [
    "### FMI Validations"
   ]
  },
  {
   "cell_type": "code",
   "execution_count": 1,
   "metadata": {},
   "source": [
    "#!fsharp\n",
    "#r \"nuget: FSharp.Data\"\n",
    "#r \"nuget: FsToolkit.ErrorHandling\"\n",
    "#r \"./src/Reports/bin/Debug/net5.0/Reports.dll\"\n",
    "\n",
    "open OSTOR.ClinicalTrials.Reports\n",
    "\n",
    "open System\n",
    "open System.IO\n",
    "\n",
    "let fmiReportXmls = Path.Combine([|Environment.CurrentDirectory; \"data\"; \"FMI\"|])\n",
    "\n",
    "DirectoryInfo(fmiReportXmls).EnumerateFileSystemInfos(\"*.xml\")\n",
    "    |> Seq.map (fun filePath -> FoundationMedicine.Report.Xml(filePath.FullName).Sample)\n",
    ""
   ],
   "outputs": [
    {
     "output_type": "execute_result",
     "data": {
      "text/html": "<table><thead><tr><th><i>index</i></th><th>SampleId</th><th>ReceivedDate</th><th>BlockId</th><th>SpecimenFormat</th></tr></thead><tbody><tr><td>0</td><td><div class=\"dni-plaintext\">SampleId &quot;US0784680.01&quot;</div></td><td><div class=\"dni-plaintext\">ReceivedDate 04/10/2020 00:00:00</div></td><td><div class=\"dni-plaintext\">BlockId &quot;S20-007817 C10&quot;</div></td><td><div class=\"dni-plaintext\">SpecimenFormat &quot;Slide Deck&quot;</div></td></tr><tr><td>1</td><td><div class=\"dni-plaintext\">SampleId &quot;US0811983.01&quot;</div></td><td><div class=\"dni-plaintext\">ReceivedDate 06/02/2020 00:00:00</div></td><td><div class=\"dni-plaintext\">BlockId &quot;S19-079463 A1&quot;</div></td><td><div class=\"dni-plaintext\">SpecimenFormat &quot;Slide Deck&quot;</div></td></tr><tr><td>2</td><td><div class=\"dni-plaintext\">SampleId &quot;US0803319.01&quot;</div></td><td><div class=\"dni-plaintext\">ReceivedDate 05/16/2020 00:00:00</div></td><td><div class=\"dni-plaintext\">BlockId &quot;S20-022029 A1&quot;</div></td><td><div class=\"dni-plaintext\">SpecimenFormat &quot;Slide Deck&quot;</div></td></tr><tr><td>3</td><td><div class=\"dni-plaintext\">SampleId &quot;US0846836.01&quot;</div></td><td><div class=\"dni-plaintext\">ReceivedDate 07/22/2020 00:00:00</div></td><td><div class=\"dni-plaintext\">BlockId &quot;MS20-3191 A1&quot;</div></td><td><div class=\"dni-plaintext\">SpecimenFormat &quot;Block&quot;</div></td></tr><tr><td>4</td><td><div class=\"dni-plaintext\">SampleId &quot;US0828560.01&quot;</div></td><td><div class=\"dni-plaintext\">ReceivedDate 06/24/2020 00:00:00</div></td><td><div class=\"dni-plaintext\">BlockId &quot;S20-027768 A1&quot;</div></td><td><div class=\"dni-plaintext\">SpecimenFormat &quot;Slide Deck&quot;</div></td></tr><tr><td>5</td><td><div class=\"dni-plaintext\">SampleId &quot;US0873668.01&quot;</div></td><td><div class=\"dni-plaintext\">ReceivedDate 08/28/2020 00:00:00</div></td><td><div class=\"dni-plaintext\">BlockId &quot;D20-19832 3 (HSS20-025701)&quot;</div></td><td><div class=\"dni-plaintext\">SpecimenFormat &quot;Block&quot;</div></td></tr><tr><td>6</td><td><div class=\"dni-plaintext\">SampleId &quot;US0862514.01&quot;</div></td><td><div class=\"dni-plaintext\">ReceivedDate 08/11/2020 00:00:00</div></td><td><div class=\"dni-plaintext\">BlockId &quot;S20 -015340 A1&quot;</div></td><td><div class=\"dni-plaintext\">SpecimenFormat &quot;Slide Deck&quot;</div></td></tr><tr><td>7</td><td><div class=\"dni-plaintext\">SampleId &quot;US0798703.01&quot;</div></td><td><div class=\"dni-plaintext\">ReceivedDate 05/06/2020 00:00:00</div></td><td><div class=\"dni-plaintext\">BlockId &quot;S19-079461 A3&quot;</div></td><td><div class=\"dni-plaintext\">SpecimenFormat &quot;Slide Deck&quot;</div></td></tr><tr><td>8</td><td><div class=\"dni-plaintext\">SampleId &quot;US0780912.01&quot;</div></td><td><div class=\"dni-plaintext\">ReceivedDate 04/03/2020 00:00:00</div></td><td><div class=\"dni-plaintext\">BlockId &quot;CS 12/27/1958&quot;</div></td><td><div class=\"dni-plaintext\">SpecimenFormat &quot;Tube Set&quot;</div></td></tr><tr><td>9</td><td><div class=\"dni-plaintext\">SampleId &quot;US0797110.01&quot;</div></td><td><div class=\"dni-plaintext\">ReceivedDate 05/02/2020 00:00:00</div></td><td><div class=\"dni-plaintext\">BlockId &quot;S20-017891 A2&quot;</div></td><td><div class=\"dni-plaintext\">SpecimenFormat &quot;Slide Deck&quot;</div></td></tr><tr><td>10</td><td><div class=\"dni-plaintext\">SampleId &quot;US0777571.01&quot;</div></td><td><div class=\"dni-plaintext\">ReceivedDate 03/28/2020 00:00:00</div></td><td><div class=\"dni-plaintext\">BlockId &quot;SDM19-04516 A1&quot;</div></td><td><div class=\"dni-plaintext\">SpecimenFormat &quot;Block&quot;</div></td></tr><tr><td>11</td><td><div class=\"dni-plaintext\">SampleId &quot;US0777686.01&quot;</div></td><td><div class=\"dni-plaintext\">ReceivedDate 03/28/2020 00:00:00</div></td><td><div class=\"dni-plaintext\">BlockId &quot;S19-067016-A2&quot;</div></td><td><div class=\"dni-plaintext\">SpecimenFormat &quot;Slide Deck&quot;</div></td></tr><tr><td>12</td><td><div class=\"dni-plaintext\">SampleId &quot;US0820309.02&quot;</div></td><td><div class=\"dni-plaintext\">ReceivedDate 06/18/2020 00:00:00</div></td><td><div class=\"dni-plaintext\">BlockId &quot;S20-017878 A1&quot;</div></td><td><div class=\"dni-plaintext\">SpecimenFormat &quot;Slide Deck&quot;</div></td></tr><tr><td>13</td><td><div class=\"dni-plaintext\">SampleId &quot;US0817160.01&quot;</div></td><td><div class=\"dni-plaintext\">ReceivedDate 06/09/2020 00:00:00</div></td><td><div class=\"dni-plaintext\">BlockId &quot;S19-22789 B1&quot;</div></td><td><div class=\"dni-plaintext\">SpecimenFormat &quot;Slide Deck&quot;</div></td></tr><tr><td>14</td><td><div class=\"dni-plaintext\">SampleId &quot;US0789421.01&quot;</div></td><td><div class=\"dni-plaintext\">ReceivedDate 04/21/2020 00:00:00</div></td><td><div class=\"dni-plaintext\">BlockId &quot;S20-018912 A2&quot;</div></td><td><div class=\"dni-plaintext\">SpecimenFormat &quot;Slide Deck&quot;</div></td></tr><tr><td>15</td><td><div class=\"dni-plaintext\">SampleId &quot;US0778973.01&quot;</div></td><td><div class=\"dni-plaintext\">ReceivedDate 03/31/2020 00:00:00</div></td><td><div class=\"dni-plaintext\">BlockId &quot;S20-016833-A2&quot;</div></td><td><div class=\"dni-plaintext\">SpecimenFormat &quot;Slide Deck&quot;</div></td></tr><tr><td>16</td><td><div class=\"dni-plaintext\">SampleId &quot;US0881054.01&quot;</div></td><td><div class=\"dni-plaintext\">ReceivedDate 09/09/2020 00:00:00</div></td><td><div class=\"dni-plaintext\">BlockId &quot;S20-038349 A2&quot;</div></td><td><div class=\"dni-plaintext\">SpecimenFormat &quot;Slide Deck&quot;</div></td></tr><tr><td>17</td><td><div class=\"dni-plaintext\">SampleId &quot;US0915862.01&quot;</div></td><td><div class=\"dni-plaintext\">ReceivedDate 10/23/2020 00:00:00</div></td><td><div class=\"dni-plaintext\">BlockId &quot;20-14330 1I (D20-15882)&quot;</div></td><td><div class=\"dni-plaintext\">SpecimenFormat &quot;Block&quot;</div></td></tr><tr><td>18</td><td><div class=\"dni-plaintext\">SampleId &quot;US0912711.02&quot;</div></td><td><div class=\"dni-plaintext\">ReceivedDate 10/20/2020 00:00:00</div></td><td><div class=\"dni-plaintext\">BlockId &quot;S19-057187-C11&quot;</div></td><td><div class=\"dni-plaintext\">SpecimenFormat &quot;Slide Deck&quot;</div></td></tr><tr><td>19</td><td><div class=\"dni-plaintext\">SampleId &quot;US0780101.01&quot;</div></td><td><div class=\"dni-plaintext\">ReceivedDate 04/01/2020 00:00:00</div></td><td><div class=\"dni-plaintext\">BlockId &quot;S20-016577 A2&quot;</div></td><td><div class=\"dni-plaintext\">SpecimenFormat &quot;Slide Deck&quot;</div></td></tr><tr><td colspan=\"5\">(185 more)</td></tr></tbody></table>"
     },
     "execution_count": 1,
     "metadata": {}
    }
   ]
  }
 ],
 "metadata": {
  "kernelspec": {
   "display_name": ".NET (C#)",
   "language": "C#",
   "name": ".net-csharp"
  },
  "language_info": {
   "file_extension": ".cs",
   "mimetype": "text/x-csharp",
   "name": "C#",
   "pygments_lexer": "csharp",
   "version": "8.0"
  }
 },
 "nbformat": 4,
 "nbformat_minor": 4
}