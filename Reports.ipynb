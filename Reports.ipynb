{
 "cells": [
  {
   "cell_type": "markdown",
   "metadata": {},
   "source": [
    "# Generate Schemas"
   ]
  },
  {
   "cell_type": "markdown",
   "metadata": {},
   "source": [
    "## Setup"
   ]
  },
  {
   "cell_type": "code",
   "execution_count": 1,
   "metadata": {},
   "source": [
    "#!fsharp\n",
    "#r \"nuget: FSharp.Data\"\n",
    "#r \"./src/Reports/bin/Debug/net5.0/Reports.dll\"\n",
    "\n",
    "open FSharp.Data\n",
    "open OSTOR.ClinicalTrials.Reports.Utilities\n",
    "open OSTOR.ClinicalTrials.Reports.Utilities.Xml\n",
    "\n",
    "open System\n",
    "open System.IO\n",
    "\n",
    "open System.Xml.Linq\n",
    "\n",
    "// [<Literal>]\n",
    "// let fmiXsdPath = \"./src/Reports/data/FMI/fmiReport0.xsd\"\n",
    "// [<Literal>]\n",
    "// let fmiXsdFolder = \"./src/Reports/data/FMI/\"\n",
    "// type FmiXml = XmlProvider<Sample = fmiXmlsPath, SampleIsList = true>\n",
    "\n",
    "// let fmiXml = FmiXml.Load(\"./data/FMI/ORD-0931199-01.xml\")\n",
    "\n",
    "// query {\n",
    "//     for element in fmiXml.XElement.Elements() do\n",
    "//     where (element.Name.LocalName.Equals(\"CustomerInformation\"))\n",
    "//     select (element.)\n",
    "// }\n",
    "// fmiXml.XElement.Element(XName.Get \"rr:ResultsReport\")\n",
    "\n",
    "[<Literal>]\n",
    "let fmiXmlsPath = \"./data/FMI/ORD-0758611-01.xml\"\n",
    "let xmlText = File.ReadAllText(fmiXmlsPath)\n",
    "\n",
    "let rrNs = XNamespace.Get \"http://integration.foundationmedicine.com/reporting\"\n",
    "let xml = XDocument.Parse(xmlText)\n",
    "\n",
    "\n",
    "let elem = Seq.head (xml.Element(rrNs + \"ResultsReport\").Element(rrNs + \"CustomerInformation\").Elements())\n",
    "\n",
    "// query {\n",
    "//     for element in xml.Element(rrNs + \"ResultsReport\").Element(rrNs + \"CustomerInformation\").Elements() do\n",
    "//     select {| MRN = element.Element(rrNs + \"MRN\") |}\n",
    "// }\n",
    "\n",
    "let resultsReportElement = xml.Element(rrNs + \"ResultsReport\")\n",
    "let customerInfoElement = resultsReportElement.Element(rrNs + \"CustomerInformation\")\n",
    "let mrn = customerInfoElement.Element(rrNs + \"MRN\").Value\n",
    "\n",
    "let finalReportElement = resultsReportElement.Element(rrNs + \"ResultsPayload\").Element(XName.Get \"FinalReport\")\n",
    "let reportId = finalReportElement.Element(XName.Get \"ReportId\").Value\n",
    "let sampleName = finalReportElement.Element(XName.Get \"SampleName\").Value\n",
    "sampleName\n",
    ""
   ],
   "outputs": [
    {
     "output_type": "execute_result",
     "data": {
      "text/plain": "US0784680.01"
     },
     "execution_count": 1,
     "metadata": {}
    }
   ]
  },
  {
   "cell_type": "markdown",
   "metadata": {},
   "source": [
    "## Caris Schema"
   ]
  },
  {
   "cell_type": "code",
   "execution_count": 1,
   "metadata": {},
   "source": [
    "#!fsharp\n",
    "let carisSchemaGenerator = XmlSchemaGenerator()\n",
    "\n",
    "// Caris report xmls\n",
    "let carisReportXmls = Path.Combine([|Environment.CurrentDirectory; \"data\"; \"Caris\"|])\n",
    "\n",
    "DirectoryInfo(carisReportXmls).EnumerateFileSystemInfos(\"*.xml\")\n",
    "    |> Seq.iter (fun fileInfo -> carisSchemaGenerator.AddXml(fileInfo.FullName))\n",
    "\n",
    "carisSchemaGenerator.SaveSchemaToDisk \"./src/Reports/data/carisReport.xsd\""
   ],
   "outputs": []
  },
  {
   "cell_type": "markdown",
   "metadata": {},
   "source": [
    "## FMI"
   ]
  },
  {
   "cell_type": "code",
   "execution_count": 1,
   "metadata": {},
   "source": [
    "#!fsharp\n",
    "let fmiSchemaGenerator = XmlSchemaGenerator()\n",
    "\n",
    "// FMI report xmls\n",
    "let fmiReportXmls = Path.Combine([|Environment.CurrentDirectory; \"data\"; \"FMI\"|])\n",
    "\n",
    "DirectoryInfo(fmiReportXmls).EnumerateFileSystemInfos(\"*.xml\")\n",
    "    |> Seq.iter (fun dirInfo ->\n",
    "        String.readFromDisk dirInfo.FullName\n",
    "        // |> Regex.remove \" xsi:schemaLocation=\\\".+\\\"\"\n",
    "        // |> Regex.remove \" xsi:noNamespaceSchemaLocation=\\\".+\\\"\"\n",
    "        |> String.writeToDisk $\"./data/parsed/FMI/{dirInfo.Name}\"\n",
    "    )\n",
    "\n",
    "let parsedFmiReportXmls = Path.Combine([|Environment.CurrentDirectory; \"data\"; \"parsed\"; \"FMI\"|])\n",
    "\n",
    "let sg =\n",
    "    DirectoryInfo(parsedFmiReportXmls).EnumerateFileSystemInfos(\"*.xml\")\n",
    "    |> Seq.fold (fun (sg: XmlSchemaGenerator) dirInfo ->\n",
    "        sg.AddXml(dirInfo.FullName)\n",
    "    ) fmiSchemaGenerator\n",
    "\n",
    "sg.SchemaStrings |> Seq.iteri (fun num schemaString -> File.WriteAllText($\"./src/Reports/data/fmiReport{num}.xsd\", schemaString))"
   ],
   "outputs": []
  }
 ],
 "metadata": {
  "kernelspec": {
   "display_name": ".NET (C#)",
   "language": "C#",
   "name": ".net-csharp"
  },
  "language_info": {
   "file_extension": ".cs",
   "mimetype": "text/x-csharp",
   "name": "C#",
   "pygments_lexer": "csharp",
   "version": "8.0"
  }
 },
 "nbformat": 4,
 "nbformat_minor": 4
}