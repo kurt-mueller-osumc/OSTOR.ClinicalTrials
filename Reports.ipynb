{
  "cells": [
    {
      "cell_type": "markdown",
      "metadata": {
        "dotnet_interactive": {
          "language": "csharp"
        }
      },
      "source": [
        "# Reports"
      ]
    },
    {
      "cell_type": "markdown",
      "metadata": {
        "dotnet_interactive": {
          "language": "csharp"
        }
      },
      "source": [
        "## Schema"
      ]
    },
    {
      "cell_type": "code",
      "execution_count": null,
      "metadata": {
        "dotnet_interactive": {
          "language": "fsharp"
        }
      },
      "outputs": [
        {
          "output_type": "unknown"
        },
        {
          "output_type": "unknown"
        }
      ],
      "source": [
        "#r \"nuget: FSharp.Data\"\n",
        "#r \"nuget: FsToolkit.ErrorHandling\"\n",
        "#r \"./src/Reports/bin/Debug/net5.0/Reports.dll\"\n",
        "\n",
        "open FSharp.Data\n",
        "open OSTOR.ClinicalTrials.Reports\n",
        "\n",
        "open System\n",
        "open System.IO"
      ]
    },
    {
      "cell_type": "markdown",
      "metadata": {
        "dotnet_interactive": {
          "language": "csharp"
        }
      },
      "source": [
        "### Caris Schema"
      ]
    },
    {
      "cell_type": "code",
      "execution_count": null,
      "metadata": {
        "dotnet_interactive": {
          "language": "fsharp"
        }
      },
      "outputs": [
        {
          "output_type": "unknown"
        },
        {
          "output_type": "unknown"
        }
      ],
      "source": [
        "let carisSchemaGenerator = XmlSchemaGenerator()\n",
        "\n",
        "// Caris report xmls\n",
        "let carisReportXmls = Path.Combine([|Environment.CurrentDirectory; \"data\"; \"Caris\"|])\n",
        "\n",
        "let sg =\n",
        "    DirectoryInfo(carisReportXmls).EnumerateFileSystemInfos(\"*.xml\")\n",
        "        |> Seq.fold (fun (sg: XmlSchemaGenerator) fileInfo -> sg.AddXml(fileInfo.FullName)) carisSchemaGenerator\n",
        "\n",
        "sg.SaveSchemaToDisk \"./src/Reports/data/carisReport.xsd\""
      ]
    },
    {
      "cell_type": "markdown",
      "metadata": {
        "dotnet_interactive": {
          "language": "csharp"
        }
      },
      "source": [
        "## Validations"
      ]
    },
    {
      "cell_type": "markdown",
      "metadata": {
        "dotnet_interactive": {
          "language": "csharp"
        }
      },
      "source": [
        "### Setup"
      ]
    },
    {
      "cell_type": "code",
      "execution_count": null,
      "metadata": {
        "dotnet_interactive": {
          "language": "fsharp"
        }
      },
      "outputs": [
        {
          "output_type": "unknown"
        },
        {
          "output_type": "unknown"
        }
      ],
      "source": [
        "#r \"nuget: FSharp.Data\"\n",
        "#r \"nuget: FsToolkit.ErrorHandling\"\n",
        "#r \"./src/Reports/bin/Debug/net5.0/Reports.dll\"\n",
        "\n",
        "open OSTOR.ClinicalTrials.Reports\n",
        "\n",
        "open System\n",
        "open System.IO"
      ]
    },
    {
      "cell_type": "markdown",
      "metadata": {
        "dotnet_interactive": {
          "language": "csharp"
        }
      },
      "source": [
        "### FMI Validations"
      ]
    },
    {
      "cell_type": "code",
      "execution_count": null,
      "metadata": {
        "dotnet_interactive": {
          "language": "fsharp"
        }
      },
      "outputs": [],
      "source": [
        "#r \"nuget: FSharp.Data\"\n",
        "#r \"nuget: FsToolkit.ErrorHandling\"\n",
        "#r \"./src/Reports/bin/Debug/net5.0/Reports.dll\"\n",
        "\n",
        "open OSTOR.ClinicalTrials.Reports\n",
        "\n",
        "open System\n",
        "open System.IO\n",
        "\n",
        "open Utilities\n",
        "\n",
        "let fmiReportXmls = Path.Combine([|Environment.CurrentDirectory; \"data\"; \"FMI\"|])\n",
        "\n",
        "let fmiResults =\n",
        "    DirectoryInfo(fmiReportXmls).EnumerateFileSystemInfos(\"*.xml\")\n",
        "    |> Seq.map (fun filePath -> FoundationMedicine.Report.Xml(filePath.FullName).ReportInput |> FoundationMedicine.Report.validate)\n",
        "\n",
        "let (reports, errors) = fmiResults |> Seq.toList |> Result.partition"
      ]
    },
    {
      "cell_type": "markdown",
      "metadata": {
        "dotnet_interactive": {
          "language": "csharp"
        }
      },
      "source": [
        "### Caris Validations"
      ]
    },
    {
      "cell_type": "code",
      "execution_count": null,
      "metadata": {
        "dotnet_interactive": {
          "language": "fsharp"
        }
      },
      "outputs": [
        {
          "output_type": "unknown"
        }
      ],
      "source": [
        "#r \"nuget: FSharp.Data\"\n",
        "#r \"nuget: FsToolkit.ErrorHandling\"\n",
        "#r \"./src/Reports/bin/Debug/net5.0/Reports.dll\"\n",
        "\n",
        "open OSTOR.ClinicalTrials.Reports\n",
        "\n",
        "open System\n",
        "open System.IO\n",
        "\n",
        "open Utilities\n",
        "\n",
        "let carisReportXmlsPath = Path.Combine([|Environment.CurrentDirectory; \"data\"; \"Caris\"|])\n",
        "\n",
        "// interpretation -> pathogencity call\n",
        "// summary -> pathogenic variant\n",
        "DirectoryInfo(carisReportXmlsPath).EnumerateFileSystemInfos(\"*.xml\")\n",
        "|> Seq.collect (fun filePath -> Caris.Report.Xml(filePath.FullName).GenomicAlterations)\n",
        "|> Seq.filter (fun ga -> ga.MolecularConsequence.IsSome)\n",
        "|> Seq.choose (fun ga -> ga.TranscriptAlterationDetail)\n",
        "|> Seq.distinct |> Seq.sort"
      ]
    },
    {
      "cell_type": "markdown",
      "metadata": {
        "dotnet_interactive": {
          "language": "csharp"
        }
      },
      "source": [
        "### Tempus Validations"
      ]
    },
    {
      "cell_type": "code",
      "execution_count": null,
      "metadata": {
        "dotnet_interactive": {
          "language": "fsharp"
        }
      },
      "outputs": [
        {
          "output_type": "unknown"
        },
        {
          "output_type": "unknown"
        },
        {
          "output_type": "unknown"
        }
      ],
      "source": [
        "#r \"nuget: Thoth.Json\"\n",
        "#r \"nuget: Thoth.Json.Net\"\n",
        "#r \"./src/Reports/bin/Debug/net5.0/Reports.dll\"\n",
        "\n",
        "open OSTOR.ClinicalTrials.Reports\n",
        "\n",
        "open System\n",
        "open System.IO\n",
        "open Thoth.Json.Net\n",
        "open Utilities\n",
        "\n",
        "let tempusReportJsonsPath = Path.Combine([| Environment.CurrentDirectory; \"data\"; \"Tempus\"|])\n",
        "\n",
        "let jsonResults =\n",
        "    DirectoryInfo(tempusReportJsonsPath).EnumerateFileSystemInfos(\"*.json\")\n",
        "    |> Seq.map (fun filePath ->\n",
        "        let jsonText = File.ReadAllText(filePath.FullName)\n",
        "        Tempus.Json.deserializeWithError filePath.Name jsonText\n",
        "    ) |> Seq.toList\n",
        "\n",
        "let (jsons, errors) = Result.partition jsonResults\n",
        "// |> Seq.collect (fun results -> results.``Somatic Potentially Actionable Mutations``)\n",
        "// |> Seq.collect (fun mutation -> mutation.VariantJsons)\n",
        "\n",
        "jsons |> Seq.map (fun json -> json.Order)\n",
        "\n",
        "jsons"
      ]
    }
  ],
  "metadata": {
    "kernelspec": {
      "display_name": ".NET (C#)",
      "language": "C#",
      "name": ".net-csharp"
    },
    "language_info": {
      "file_extension": ".cs",
      "mimetype": "text/x-csharp",
      "name": "csharp",
      "pygments_lexer": "csharp",
      "version": "8.0"
    }
  },
  "nbformat": 4,
  "nbformat_minor": 4
}