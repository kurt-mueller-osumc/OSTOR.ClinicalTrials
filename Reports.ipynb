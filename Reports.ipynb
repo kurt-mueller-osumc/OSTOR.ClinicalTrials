{
 "cells": [
  {
   "cell_type": "markdown",
   "metadata": {},
   "source": [
    "# Reports"
   ]
  },
  {
   "cell_type": "markdown",
   "metadata": {},
   "source": [
    "## Schema"
   ]
  },
  {
   "cell_type": "markdown",
   "metadata": {},
   "source": [
    "### Setup"
   ]
  },
  {
   "cell_type": "code",
   "execution_count": 1,
   "metadata": {},
   "source": [
    "#!fsharp\n",
    "#r \"nuget: FSharp.Data\"\n",
    "#r \"nuget: FsToolkit.ErrorHandling\"\n",
    "#r \"./src/Reports/bin/Debug/net5.0/Reports.dll\"\n",
    "\n",
    "open FSharp.Data\n",
    "open OSTOR.ClinicalTrials.Reports.Utilities\n",
    "open OSTOR.ClinicalTrials.Reports.Utilities.Xml\n",
    "\n",
    "open System\n",
    "open System.IO"
   ],
   "outputs": [
    {
     "output_type": "execute_result",
     "data": {
      "text/plain": "Installed package FsToolkit.ErrorHandling version 2.0.0"
     },
     "execution_count": 1,
     "metadata": {}
    },
    {
     "output_type": "execute_result",
     "data": {
      "text/plain": "Installed package FSharp.Data version 3.3.3"
     },
     "execution_count": 1,
     "metadata": {}
    }
   ]
  },
  {
   "cell_type": "markdown",
   "metadata": {},
   "source": [
    "### Caris Schema"
   ]
  },
  {
   "cell_type": "code",
   "execution_count": 1,
   "metadata": {},
   "source": [
    "#!fsharp\n",
    "let carisSchemaGenerator = XmlSchemaGenerator()\n",
    "\n",
    "// Caris report xmls\n",
    "let carisReportXmls = Path.Combine([|Environment.CurrentDirectory; \"data\"; \"Caris\"|])\n",
    "\n",
    "let sg =\n",
    "    DirectoryInfo(carisReportXmls).EnumerateFileSystemInfos(\"*.xml\")\n",
    "        |> Seq.fold (fun (sg: XmlSchemaGenerator) fileInfo -> sg.AddXml(fileInfo.FullName)) carisSchemaGenerator\n",
    "\n",
    "sg.SaveSchemaToDisk \"./src/Reports/data/carisReport.xsd\""
   ],
   "outputs": []
  },
  {
   "cell_type": "markdown",
   "metadata": {},
   "source": [
    "## Validations"
   ]
  },
  {
   "cell_type": "markdown",
   "metadata": {},
   "source": [
    "### Setup"
   ]
  },
  {
   "cell_type": "code",
   "execution_count": 1,
   "metadata": {},
   "source": [
    "#!fsharp\n",
    "#r \"nuget: FSharp.Data\"\n",
    "#r \"nuget: FsToolkit.ErrorHandling\"\n",
    "#r \"./src/Reports/bin/Debug/net5.0/Reports.dll\"\n",
    "\n",
    "open OSTOR.ClinicalTrials.Reports\n",
    "\n",
    "open System\n",
    "open System.IO"
   ],
   "outputs": []
  },
  {
   "cell_type": "markdown",
   "metadata": {},
   "source": [
    "### FMI Validations"
   ]
  },
  {
   "cell_type": "code",
   "execution_count": 1,
   "metadata": {},
   "source": [
    "#!fsharp\n",
    "#r \"nuget: FSharp.Data\"\n",
    "#r \"nuget: FsToolkit.ErrorHandling\"\n",
    "#r \"./src/Reports/bin/Debug/net5.0/Reports.dll\"\n",
    "\n",
    "open OSTOR.ClinicalTrials.Reports\n",
    "\n",
    "open System\n",
    "open System.IO\n",
    "\n",
    "open Utilities\n",
    "\n",
    "let fmiReportXmls = Path.Combine([|Environment.CurrentDirectory; \"data\"; \"FMI\"|])\n",
    "\n",
    "let fmiResults =\n",
    "    DirectoryInfo(fmiReportXmls).EnumerateFileSystemInfos(\"*.xml\")\n",
    "    |> Seq.map (fun filePath -> FoundationMedicine.Report.Xml(filePath.FullName).ReportInput |> FoundationMedicine.Report.validate)\n",
    "\n",
    "let (reports, errors) = fmiResults |> Seq.toList |> Result.partition"
   ],
   "outputs": []
  },
  {
   "cell_type": "markdown",
   "metadata": {},
   "source": [
    "#### Errors"
   ]
  },
  {
   "cell_type": "code",
   "execution_count": 1,
   "metadata": {},
   "source": [
    "#!fsharp\n",
    "errors"
   ],
   "outputs": [
    {
     "output_type": "execute_result",
     "data": {
      "text/html": "<i>(empty)</i>"
     },
     "execution_count": 1,
     "metadata": {}
    }
   ]
  }
 ],
 "metadata": {
  "kernelspec": {
   "display_name": ".NET (C#)",
   "language": "C#",
   "name": ".net-csharp"
  },
  "language_info": {
   "file_extension": ".cs",
   "mimetype": "text/x-csharp",
   "name": "C#",
   "pygments_lexer": "csharp",
   "version": "8.0"
  }
 },
 "nbformat": 4,
 "nbformat_minor": 4
}