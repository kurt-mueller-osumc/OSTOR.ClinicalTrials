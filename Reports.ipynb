{
 "cells": [
  {
   "cell_type": "markdown",
   "metadata": {},
   "source": [
    "# Reports"
   ]
  },
  {
   "cell_type": "markdown",
   "metadata": {},
   "source": [
    "## Schema"
   ]
  },
  {
   "cell_type": "code",
   "execution_count": 1,
   "metadata": {},
   "source": [
    "#!fsharp\n",
    "#r \"nuget: FSharp.Data\"\n",
    "#r \"nuget: FsToolkit.ErrorHandling\"\n",
    "#r \"./src/Reports/bin/Debug/net5.0/Reports.dll\"\n",
    "\n",
    "open FSharp.Data\n",
    "open OSTOR.ClinicalTrials.Reports.Utilities\n",
    "open OSTOR.ClinicalTrials.Reports.Utilities.Xml\n",
    "\n",
    "open System\n",
    "open System.IO"
   ],
   "outputs": [
    {
     "output_type": "execute_result",
     "data": {
      "text/plain": "Installed package FsToolkit.ErrorHandling version 2.0.0"
     },
     "execution_count": 1,
     "metadata": {}
    },
    {
     "output_type": "execute_result",
     "data": {
      "text/plain": "Installed package FSharp.Data version 3.3.3"
     },
     "execution_count": 1,
     "metadata": {}
    }
   ]
  },
  {
   "cell_type": "markdown",
   "metadata": {},
   "source": [
    "### Caris Schema"
   ]
  },
  {
   "cell_type": "code",
   "execution_count": 1,
   "metadata": {},
   "source": [
    "#!fsharp\n",
    "let carisSchemaGenerator = XmlSchemaGenerator()\n",
    "\n",
    "// Caris report xmls\n",
    "let carisReportXmls = Path.Combine([|Environment.CurrentDirectory; \"data\"; \"Caris\"|])\n",
    "\n",
    "let sg =\n",
    "    DirectoryInfo(carisReportXmls).EnumerateFileSystemInfos(\"*.xml\")\n",
    "        |> Seq.fold (fun (sg: XmlSchemaGenerator) fileInfo -> sg.AddXml(fileInfo.FullName)) carisSchemaGenerator\n",
    "\n",
    "sg.SaveSchemaToDisk \"./src/Reports/data/carisReport.xsd\""
   ],
   "outputs": []
  },
  {
   "cell_type": "markdown",
   "metadata": {},
   "source": [
    "## Validations"
   ]
  },
  {
   "cell_type": "markdown",
   "metadata": {},
   "source": [
    "### Setup"
   ]
  },
  {
   "cell_type": "code",
   "execution_count": 1,
   "metadata": {},
   "source": [
    "#!fsharp\n",
    "#r \"nuget: FSharp.Data\"\n",
    "#r \"nuget: FsToolkit.ErrorHandling\"\n",
    "#r \"./src/Reports/bin/Debug/net5.0/Reports.dll\"\n",
    "\n",
    "open OSTOR.ClinicalTrials.Reports\n",
    "\n",
    "open System\n",
    "open System.IO"
   ],
   "outputs": []
  },
  {
   "cell_type": "markdown",
   "metadata": {},
   "source": [
    "### FMI Validations"
   ]
  },
  {
   "cell_type": "code",
   "execution_count": 1,
   "metadata": {},
   "source": [
    "#!fsharp\n",
    "#r \"nuget: FSharp.Data\"\n",
    "#r \"nuget: FsToolkit.ErrorHandling\"\n",
    "#r \"./src/Reports/bin/Debug/net5.0/Reports.dll\"\n",
    "\n",
    "open OSTOR.ClinicalTrials.Reports\n",
    "\n",
    "open System\n",
    "open System.IO\n",
    "\n",
    "open Utilities\n",
    "\n",
    "let fmiReportXmls = Path.Combine([|Environment.CurrentDirectory; \"data\"; \"FMI\"|])\n",
    "\n",
    "let fmiResults =\n",
    "    DirectoryInfo(fmiReportXmls).EnumerateFileSystemInfos(\"*.xml\")\n",
    "    |> Seq.map (fun filePath -> FoundationMedicine.Report.Xml(filePath.FullName).ReportInput |> FoundationMedicine.Report.validate)\n",
    "\n",
    "let (reports, errors) = fmiResults |> Seq.toList |> Result.partition"
   ],
   "outputs": []
  },
  {
   "cell_type": "markdown",
   "metadata": {},
   "source": [
    "### Caris Validations"
   ]
  },
  {
   "cell_type": "code",
   "execution_count": 1,
   "metadata": {},
   "source": [
    "#!fsharp\n",
    "#r \"nuget: FSharp.Data\"\n",
    "#r \"nuget: FsToolkit.ErrorHandling\"\n",
    "#r \"./src/Reports/bin/Debug/net5.0/Reports.dll\"\n",
    "\n",
    "open OSTOR.ClinicalTrials.Reports\n",
    "\n",
    "open System\n",
    "open System.IO\n",
    "\n",
    "open Utilities\n",
    "\n",
    "let carisReportXmlsPath = Path.Combine([|Environment.CurrentDirectory; \"data\"; \"Caris\"|])\n",
    "\n",
    "DirectoryInfo(carisReportXmlsPath).EnumerateFileSystemInfos(\"*.xml\")\n",
    "|> Seq.map (fun filePath -> Caris.Report.Xml(filePath.FullName).TumorSpecimenInfo.SpecimenSite)\n",
    "|> Seq.sort |> Seq.distinct"
   ],
   "outputs": []
  },
  {
   "cell_type": "markdown",
   "metadata": {},
   "source": [
    "### Tempus Validations"
   ]
  },
  {
   "cell_type": "code",
   "execution_count": 1,
   "metadata": {},
   "source": [
    "#!fsharp\n",
    "#r \"nuget: Thoth.Json\"\n",
    "#r \"nuget: Thoth.Json.Net\"\n",
    "#r \"./src/Reports/bin/Debug/net5.0/Reports.dll\"\n",
    "\n",
    "open OSTOR.ClinicalTrials.Reports\n",
    "\n",
    "open System\n",
    "open System.IO\n",
    "open Thoth.Json.Net\n",
    "open Utilities\n",
    "\n",
    "let tempusReportJsonsPath = Path.Combine([| Environment.CurrentDirectory; \"data\"; \"Tempus\"|])\n",
    "\n",
    "let jsonResults =\n",
    "    DirectoryInfo(tempusReportJsonsPath).EnumerateFileSystemInfos(\"*.json\")\n",
    "    |> Seq.map (fun filePath ->\n",
    "        let jsonText = File.ReadAllText(filePath.FullName)\n",
    "\n",
    "        Tempus.Json.decode jsonText\n",
    "    ) |> Seq.toList\n",
    "\n",
    "Result.combine jsonResults\n",
    ""
   ],
   "outputs": [
    {
     "output_type": "execute_result",
     "data": {
      "text/html": "<table><thead><tr><th>ResultValue</th><th>ErrorValue</th></tr></thead><tbody><tr><td><div class=\"dni-plaintext\">[ { Order =\n   { Institution = &quot;Ohio State University- Sarcoma &amp; Melanoma&quot;\n     Physician = &quot;James Chen&quot;\n     OrderId = &quot;20pwda&quot;\n     AccessionId = &quot;TL-20-430A0D&quot;\n     OrderTest =\n      { Code = &quot;MMR&quot;\n        Name =\n         &quot;Immunohistochemistry (IHC) DNA Mismatch Repair Panel: MLH1, PMS2, MSH2, MSH6&quot;\n        Description = &quot;BIOCARE G168-15, A16-4, FE11, BC/44&quot; } } }, { Order =\n   { Institution = &quot;Ohio State University - The James Cancer Center&quot;\n     Physician = &quot;Gabriel Tinoco Suarez&quot;\n     OrderId = &quot;20olpb&quot;\n     AccessionId = &quot;TL-20-DF73DA&quot;\n     OrderTest =\n      { Code = &quot;MMR&quot;\n        Name =\n         &quot;Immunohistochemistry (IHC) DNA Mismatch Repair Panel: MLH1, PMS2, MSH2, MSH6&quot;\n        Description = &quot;BIOCARE G168-15, A16-4, FE11, BC/44&quot; } } }, { Order =\n   { Institution = &quot;Ohio State University- Sarcoma &amp; Melanoma&quot;\n     Physician = &quot;James Chen&quot;\n     OrderId = &quot;20hnmz&quot;\n     AccessionId = &quot;TL-20-6DB940&quot;\n     OrderTest =\n      { Code = &quot;PD-L1&quot;\n        Name = &quot;Immunohistochemistry(IHC) PD-L1&quot;\n        Description = &quot;Analysis performed using DAKO PD-L1 22C3 clone.&quot; } } }, { Order =\n   { Institution = &quot;Ohio State University- Sarcoma &amp; Melanoma&quot;\n     Physician = &quot;James Chen&quot;\n     OrderId = &quot;20ohns&quot;\n     AccessionId = &quot;TL-20-21C070&quot;\n     OrderTest =\n      { Code = &quot;PD-L1&quot;\n        Name = &quot;Immunohistochemistry(IHC) PD-L1&quot;\n        Description = &quot;Analysis performed using DAKO PD-L1 22C3 clone.&quot; } } }, { Order =\n   { Institution = &quot;Ohio State University - The James Cancer Center&quot;\n     Physician = &quot;James Chen&quot;\n     OrderId = &quot;20spsf&quot;\n     AccessionId = &quot;TL-20-09D393&quot;\n     OrderTest =\n      { Code = &quot;MMR&quot;\n        Name =\n         &quot;Immunohistochemistry (IHC) DNA Mismatch Repair Panel: MLH1, PMS2, MSH2, MSH6&quot;\n        Description = &quot;BIOCARE G168-15, A16-4, FE11, BC/44&quot; } } }, { Order = { Institution = &quot;Stefanie Spielman Medical Oncology&quot;\n            Physician = &quot;Mathew Cherian&quot;\n            OrderId = &quot;19mpma&quot;\n            AccessionId = &quot;TL-19-9E9C04&quot;\n            OrderTest = { Code = &quot;XF.V2&quot;\n                          Name = &quot;Cell free DNA panel&quot;\n                          Description = &quot;Panel of 105 genes (cfDNA)&quot; } } }, { Order =\n   { Institution = &quot;Ohio State University- Sarcoma &amp; Melanoma&quot;\n     Physician = &quot;Gabriel Tinoco Suarez&quot;\n     OrderId = &quot;20fusf&quot;\n     AccessionId = &quot;TL-20-FDBBEB&quot;\n     OrderTest =\n      { Code = &quot;XT.V4&quot;\n        Name = &quot;Targeted Panel&quot;\n        Description = &quot;Panel of 648 genes (germline, tumor) + mRNA (tumor)&quot; } } }, { Order =\n   { Institution = &quot;Ohio State University- Sarcoma &amp; Melanoma&quot;\n     Physician = &quot;David Liebner&quot;\n     OrderId = &quot;20yrzi&quot;\n     AccessionId = &quot;TL-20-7DDAB1&quot;\n     OrderTest =\n      { Code = &quot;PD-L1&quot;\n        Name = &quot;Immunohistochemistry(IHC) PD-L1&quot;\n        Description = &quot;Analysis performed using DAKO PD-L1 22C3 clone.&quot; } } }, { Order =\n   { Institution = &quot;Ohio State University - The James Cancer Center&quot;\n     Physician = &quot;David Liebner&quot;\n     OrderId = &quot;19veur&quot;\n     AccessionId = &quot;TL-20-781C0E&quot;\n     OrderTest =\n      { Code = &quot;MMR&quot;\n        Name =\n         &quot;Immunohistochemistry (IHC) DNA Mismatch Repair Panel: MLH1, PMS2, MSH2, MSH6&quot;\n        Description = &quot;BIOCARE G168-15, A16-4, FE11, BC/44&quot; } } }, { Order =\n   { Institution = &quot;Ohio State University- Sarcoma &amp; Melanoma&quot;\n     Physician = &quot;David Liebner&quot;\n     OrderId = &quot;20zpco&quot;\n     AccessionId = &quot;TL-20-CA68A9&quot;\n     OrderTest =\n      { Code = &quot;PD-L1&quot;\n        Name = &quot;Immunohistochemistry(IHC) PD-L1&quot;\n        Description = &quot;Analysis performed using DAKO PD-L1 22C3 clone.&quot; } } }, { Order =\n   { Institution = &quot;Ohio State University- Sarcoma &amp; Melanoma&quot;\n     Physician = &quot;David Liebner&quot;\n     OrderId = &quot;20unuf&quot;\n     AccessionId = &quot;TL-20-1EDEC4&quot;\n     OrderTest =\n      { Code = &quot;MMR&quot;\n        Name =\n         &quot;Immunohistochemistry (IHC) DNA Mismatch Repair Panel: MLH1, PMS2, MSH2, MSH6&quot;\n        Description = &quot;BIOCARE G168-15, A16-4, FE11, BC/44&quot; } } }, { Order =\n   { Institution = &quot;Ohio State University - The James Cancer Center&quot;\n     Physician = &quot;Gabriel Tinoco Suarez&quot;\n     OrderId = &quot;20kdkz&quot;\n     AccessionId = &quot;TL-20-1954D5&quot;\n     OrderTest =\n      { Code = &quot;XT.V3&quot;\n        Name = &quot;Targeted Panel&quot;\n        Description = &quot;Panel of 648 genes (germline, tumor) + mRNA (tumor)&quot; } } }, { Order =\n   { Institution = &quot;Ohio State University - Neuro Oncology&quot;\n     Physician = &quot;Clement Pillainayagam&quot;\n     OrderId = &quot;20vdnt&quot;\n     AccessionId = &quot;TL-20-FB0F91&quot;\n     OrderTest =\n      { Code = &quot;XT.V4&quot;\n        Name = &quot;Targeted Panel&quot;\n        Description = &quot;Panel of 648 genes (germline, tumor) + mRNA (tumor)&quot; } } }, { Order =\n   { Institution = &quot;Ohio State University - The James Cancer Center&quot;\n     Physician = &quot;David Liebner&quot;\n     OrderId = &quot;20sqsa&quot;\n     AccessionId = &quot;TL-20-7E81F6&quot;\n     OrderTest =\n      { Code = &quot;MMR&quot;\n        Name =\n         &quot;Immunohistochemistry (IHC) DNA Mismatch Repair Panel: MLH1, PMS2, MSH2, MSH6&quot;\n        Description = &quot;BIOCARE G168-15, A16-4, FE11, BC/44&quot; } } }, { Order =\n   { Institution = &quot;Ohio State University - Neuro Oncology&quot;\n     Physician = &quot;Vinay Puduvalli&quot;\n     OrderId = &quot;20qekn&quot;\n     AccessionId = &quot;TL-20-0F93AB&quot;\n     OrderTest =\n      { Code = &quot;XT.V3&quot;\n        Name = &quot;Targeted Panel&quot;\n        Description = &quot;Panel of 648 genes (germline, tumor) + mRNA (tumor)&quot; } } }, { Order =\n   { Institution = &quot;Ohio State University- Sarcoma &amp; Melanoma&quot;\n     Physician = &quot;David Liebner&quot;\n     OrderId = &quot;20axtx&quot;\n     AccessionId = &quot;TL-20-2490EB&quot;\n     OrderTest =\n      { Code = &quot;PD-L1&quot;\n        Name = &quot;Immunohistochemistry(IHC) PD-L1&quot;\n        Description = &quot;Analysis performed using DAKO PD-L1 22C3 clone.&quot; } } }, { Order =\n   { Institution = &quot;Ohio State University - The James Cancer Center&quot;\n     Physician = &quot;James Chen&quot;\n     OrderId = &quot;20ihdf&quot;\n     AccessionId = &quot;TL-20-37C417&quot;\n     OrderTest =\n      { Code = &quot;PD-L1&quot;\n        Name = &quot;Immunohistochemistry(IHC) PD-L1&quot;\n        Description = &quot;Analysis performed using DAKO PD-L1 22C3 clone.&quot; } } }, { Order =\n   { Institution = &quot;Ohio State University- Sarcoma &amp; Melanoma&quot;\n     Physician = &quot;James Chen&quot;\n     OrderId = &quot;20ifch&quot;\n     AccessionId = &quot;TL-20-175A9E&quot;\n     OrderTest =\n      { Code = &quot;PD-L1&quot;\n        Name = &quot;Immunohistochemistry(IHC) PD-L1&quot;\n        Description = &quot;Analysis performed using DAKO PD-L1 22C3 clone.&quot; } } }, { Order =\n   { Institution = &quot;Ohio State University- Sarcoma &amp; Melanoma&quot;\n     Physician = &quot;David Liebner&quot;\n     OrderId = &quot;20iwdp&quot;\n     AccessionId = &quot;TL-20-8A69CF&quot;\n     OrderTest =\n      { Code = &quot;XT.V4&quot;\n        Name = &quot;Targeted Panel&quot;\n        Description = &quot;Panel of 648 genes (germline, tumor) + mRNA (tumor)&quot; } } }, { Order =\n   { Institution = &quot;Ohio State University- Sarcoma &amp; Melanoma&quot;\n     Physician = &quot;Gabriel Tinoco Suarez&quot;\n     OrderId = &quot;20uqhd&quot;\n     AccessionId = &quot;TL-20-223FD6&quot;\n     OrderTest =\n      { Code = &quot;PD-L1&quot;\n        Name = &quot;Immunohistochemistry(IHC) PD-L1&quot;\n        Description = &quot;Analysis performed using DAKO PD-L1 22C3 clone.&quot; } } } ... (957 more) ]</div></td><td><div class=\"dni-plaintext\">&lt;null&gt;</div></td></tr></tbody></table>"
     },
     "execution_count": 1,
     "metadata": {}
    }
   ]
  }
 ],
 "metadata": {
  "kernelspec": {
   "display_name": ".NET (C#)",
   "language": "C#",
   "name": ".net-csharp"
  },
  "language_info": {
   "file_extension": ".cs",
   "mimetype": "text/x-csharp",
   "name": "C#",
   "pygments_lexer": "csharp",
   "version": "8.0"
  }
 },
 "nbformat": 4,
 "nbformat_minor": 4
}